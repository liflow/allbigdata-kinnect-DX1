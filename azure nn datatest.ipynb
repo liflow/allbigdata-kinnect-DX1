{
 "cells": [
  {
   "cell_type": "markdown",
   "id": "aa6db07a",
   "metadata": {},
   "source": [
    "## Examining Angel Measurements to Classify Correct and Wrong Movements using Neural Networks\n",
    "In this project, we will examine the angles of movements to classify them as either correct or wrong. We will measure the angles .The measurements will be used as input to a neural network that will classify the movements as either correct or wrong.\n",
    "\n"
   ]
  },
  {
   "cell_type": "code",
   "execution_count": 31,
   "id": "f15b93d7",
   "metadata": {},
   "outputs": [],
   "source": [
    "\n",
    "# importing libries\n",
    "import numpy as np\n",
    "import pandas as pd\n",
    "import matplotlib.pyplot as plt\n",
    "import seaborn as sns\n",
    "from sklearn.neural_network import MLPClassifier\n",
    "from sklearn.model_selection import train_test_split \n",
    "from sklearn.metrics import accuracy_score ,confusion_matrix\n",
    "from sklearn.preprocessing import StandardScaler"
   ]
  },
  {
   "cell_type": "markdown",
   "id": "ef0f9637",
   "metadata": {},
   "source": [
    "## Data Collection\n",
    "we  have  recorded 8 mkv files 4 files for correct movement and 4 forincorrect  movement ,  then  we labeled the movements as either correct or wrong, then we standrilzed teh data. "
   ]
  },
  {
   "cell_type": "code",
   "execution_count": 32,
   "id": "70a2a083",
   "metadata": {},
   "outputs": [
    {
     "data": {
      "text/html": [
       "<div>\n",
       "<style scoped>\n",
       "    .dataframe tbody tr th:only-of-type {\n",
       "        vertical-align: middle;\n",
       "    }\n",
       "\n",
       "    .dataframe tbody tr th {\n",
       "        vertical-align: top;\n",
       "    }\n",
       "\n",
       "    .dataframe thead th {\n",
       "        text-align: right;\n",
       "    }\n",
       "</style>\n",
       "<table border=\"1\" class=\"dataframe\">\n",
       "  <thead>\n",
       "    <tr style=\"text-align: right;\">\n",
       "      <th></th>\n",
       "      <th>max</th>\n",
       "      <th>min</th>\n",
       "      <th>mean</th>\n",
       "      <th>variance</th>\n",
       "      <th>y</th>\n",
       "    </tr>\n",
       "  </thead>\n",
       "  <tbody>\n",
       "    <tr>\n",
       "      <th>0</th>\n",
       "      <td>89.252469</td>\n",
       "      <td>81.361313</td>\n",
       "      <td>85.529348</td>\n",
       "      <td>5.685907</td>\n",
       "      <td>0</td>\n",
       "    </tr>\n",
       "    <tr>\n",
       "      <th>1</th>\n",
       "      <td>93.129307</td>\n",
       "      <td>84.992217</td>\n",
       "      <td>89.310801</td>\n",
       "      <td>6.643683</td>\n",
       "      <td>0</td>\n",
       "    </tr>\n",
       "    <tr>\n",
       "      <th>2</th>\n",
       "      <td>85.948046</td>\n",
       "      <td>59.023959</td>\n",
       "      <td>65.723337</td>\n",
       "      <td>42.812277</td>\n",
       "      <td>0</td>\n",
       "    </tr>\n",
       "    <tr>\n",
       "      <th>3</th>\n",
       "      <td>99.083614</td>\n",
       "      <td>92.732954</td>\n",
       "      <td>96.249850</td>\n",
       "      <td>2.398053</td>\n",
       "      <td>0</td>\n",
       "    </tr>\n",
       "    <tr>\n",
       "      <th>4</th>\n",
       "      <td>76.555638</td>\n",
       "      <td>48.763863</td>\n",
       "      <td>65.502383</td>\n",
       "      <td>90.617521</td>\n",
       "      <td>1</td>\n",
       "    </tr>\n",
       "  </tbody>\n",
       "</table>\n",
       "</div>"
      ],
      "text/plain": [
       "         max        min       mean   variance  y\n",
       "0  89.252469  81.361313  85.529348   5.685907  0\n",
       "1  93.129307  84.992217  89.310801   6.643683  0\n",
       "2  85.948046  59.023959  65.723337  42.812277  0\n",
       "3  99.083614  92.732954  96.249850   2.398053  0\n",
       "4  76.555638  48.763863  65.502383  90.617521  1"
      ]
     },
     "execution_count": 32,
     "metadata": {},
     "output_type": "execute_result"
    }
   ],
   "source": [
    "\n",
    "#  importing the CSV file into a pandas DataFrame\n",
    "df = pd.read_csv(r'C:\\Users\\sam\\Downloads\\nntest.csv')\n",
    "\n",
    "# Print the first few rows of the DataFrame\n",
    "df.head()"
   ]
  },
  {
   "cell_type": "code",
   "execution_count": 33,
   "id": "1d71f44f",
   "metadata": {},
   "outputs": [
    {
     "data": {
      "text/html": [
       "<div>\n",
       "<style scoped>\n",
       "    .dataframe tbody tr th:only-of-type {\n",
       "        vertical-align: middle;\n",
       "    }\n",
       "\n",
       "    .dataframe tbody tr th {\n",
       "        vertical-align: top;\n",
       "    }\n",
       "\n",
       "    .dataframe thead th {\n",
       "        text-align: right;\n",
       "    }\n",
       "</style>\n",
       "<table border=\"1\" class=\"dataframe\">\n",
       "  <thead>\n",
       "    <tr style=\"text-align: right;\">\n",
       "      <th></th>\n",
       "      <th>max</th>\n",
       "      <th>min</th>\n",
       "      <th>mean</th>\n",
       "      <th>variance</th>\n",
       "      <th>y</th>\n",
       "    </tr>\n",
       "  </thead>\n",
       "  <tbody>\n",
       "    <tr>\n",
       "      <th>count</th>\n",
       "      <td>8.000000</td>\n",
       "      <td>8.000000</td>\n",
       "      <td>8.000000</td>\n",
       "      <td>8.000000</td>\n",
       "      <td>8.000000</td>\n",
       "    </tr>\n",
       "    <tr>\n",
       "      <th>mean</th>\n",
       "      <td>83.869298</td>\n",
       "      <td>63.155870</td>\n",
       "      <td>73.936898</td>\n",
       "      <td>50.473237</td>\n",
       "      <td>0.500000</td>\n",
       "    </tr>\n",
       "    <tr>\n",
       "      <th>std</th>\n",
       "      <td>9.626378</td>\n",
       "      <td>20.860083</td>\n",
       "      <td>14.638230</td>\n",
       "      <td>48.456099</td>\n",
       "      <td>0.534522</td>\n",
       "    </tr>\n",
       "    <tr>\n",
       "      <th>min</th>\n",
       "      <td>72.144159</td>\n",
       "      <td>34.413749</td>\n",
       "      <td>56.929857</td>\n",
       "      <td>2.398053</td>\n",
       "      <td>0.000000</td>\n",
       "    </tr>\n",
       "    <tr>\n",
       "      <th>25%</th>\n",
       "      <td>75.905728</td>\n",
       "      <td>48.166905</td>\n",
       "      <td>64.062740</td>\n",
       "      <td>6.404239</td>\n",
       "      <td>0.000000</td>\n",
       "    </tr>\n",
       "    <tr>\n",
       "      <th>50%</th>\n",
       "      <td>83.416602</td>\n",
       "      <td>58.303414</td>\n",
       "      <td>69.114567</td>\n",
       "      <td>46.865203</td>\n",
       "      <td>0.500000</td>\n",
       "    </tr>\n",
       "    <tr>\n",
       "      <th>75%</th>\n",
       "      <td>90.221678</td>\n",
       "      <td>82.269039</td>\n",
       "      <td>86.474711</td>\n",
       "      <td>69.684999</td>\n",
       "      <td>1.000000</td>\n",
       "    </tr>\n",
       "    <tr>\n",
       "      <th>max</th>\n",
       "      <td>99.083614</td>\n",
       "      <td>92.732954</td>\n",
       "      <td>96.249850</td>\n",
       "      <td>142.002837</td>\n",
       "      <td>1.000000</td>\n",
       "    </tr>\n",
       "  </tbody>\n",
       "</table>\n",
       "</div>"
      ],
      "text/plain": [
       "             max        min       mean    variance         y\n",
       "count   8.000000   8.000000   8.000000    8.000000  8.000000\n",
       "mean   83.869298  63.155870  73.936898   50.473237  0.500000\n",
       "std     9.626378  20.860083  14.638230   48.456099  0.534522\n",
       "min    72.144159  34.413749  56.929857    2.398053  0.000000\n",
       "25%    75.905728  48.166905  64.062740    6.404239  0.000000\n",
       "50%    83.416602  58.303414  69.114567   46.865203  0.500000\n",
       "75%    90.221678  82.269039  86.474711   69.684999  1.000000\n",
       "max    99.083614  92.732954  96.249850  142.002837  1.000000"
      ]
     },
     "execution_count": 33,
     "metadata": {},
     "output_type": "execute_result"
    }
   ],
   "source": [
    "# describe--------- for stratical measure to the dataset\n",
    "df.describe()"
   ]
  },
  {
   "cell_type": "code",
   "execution_count": 34,
   "id": "b106d4dd",
   "metadata": {},
   "outputs": [
    {
     "name": "stdout",
     "output_type": "stream",
     "text": [
      "         max        min       mean    variance\n",
      "0  89.252469  81.361313  85.529348    5.685907\n",
      "1  93.129307  84.992217  89.310801    6.643683\n",
      "2  85.948046  59.023959  65.723337   42.812277\n",
      "3  99.083614  92.732954  96.249850    2.398053\n",
      "4  76.555638  48.763863  65.502383   90.617521\n",
      "5  80.885158  57.582869  72.505798   50.918129\n",
      "6  72.144159  46.376032  59.743813   62.707492\n",
      "7  73.955996  34.413749  56.929857  142.002837\n",
      "[0 0 0 0 1 1 1 1]\n"
     ]
    }
   ],
   "source": [
    "# separate X (training data) from y (target variable)\n",
    "cols = df.shape[1]\n",
    "X = df.iloc[:,0:cols-1]\n",
    "y= df.iloc[:,cols-1:cols]\n",
    "y=np.ravel(y)\n",
    "print(X)\n",
    "print(y)\n"
   ]
  },
  {
   "cell_type": "code",
   "execution_count": 36,
   "id": "097e7945",
   "metadata": {},
   "outputs": [
    {
     "name": "stdout",
     "output_type": "stream",
     "text": [
      "X \n",
      " [[ 0.59782104  0.93299906  0.84660854 -0.98810411]\n",
      " [ 1.02835832  1.1190769   1.12277189 -0.96697353]\n",
      " [ 0.23085257 -0.2117536  -0.59984482 -0.16901713]\n",
      " [ 1.6896062   1.51577695  1.6295378  -1.06064118]\n",
      " [-0.81220907 -0.73756667 -0.61598133  0.88566858]]\n",
      "y \n",
      " [0 0 0 0 1]\n"
     ]
    }
   ],
   "source": [
    "\n",
    "\n",
    "#Standard Scaler for Data\n",
    "\n",
    "scaler = StandardScaler(copy=True, with_mean=True, with_std=True)\n",
    "X = scaler.fit_transform(X)\n",
    "\n",
    "#showing data\n",
    "print('X \\n' , X[:5])\n",
    "print('y \\n' , y[:5])"
   ]
  },
  {
   "cell_type": "code",
   "execution_count": 37,
   "id": "b8b49756",
   "metadata": {},
   "outputs": [
    {
     "name": "stdout",
     "output_type": "stream",
     "text": [
      "Training data shape: (5, 4)\n",
      "Training labels shape: (5,)\n",
      "Test data shape: (3, 4)\n",
      "Test labels shape: (3,)\n"
     ]
    }
   ],
   "source": [
    "X_train, X_test, y_train, y_test = train_test_split(X, y, test_size=0.3,stratify=y, random_state=3)\n",
    "\n",
    "# Print the shapes of the training and test sets\n",
    "print(\"Training data shape:\", X_train.shape)\n",
    "print(\"Training labels shape:\", y_train.shape)\n",
    "print(\"Test data shape:\", X_test.shape)\n",
    "print(\"Test labels shape:\", y_test.shape)"
   ]
  },
  {
   "cell_type": "code",
   "execution_count": 38,
   "id": "2f9e68f6",
   "metadata": {},
   "outputs": [],
   "source": [
    "MLPClassifierModel = MLPClassifier(activation='logistic', # can be also identity , logistic , relu\n",
    "                                   solver='lbfgs',  # can be also sgd , adam\n",
    "                                   learning_rate='constant', # can be also invscaling , adaptive\n",
    "                                    early_stopping= False,\n",
    "                                   alpha=0.0001 ,hidden_layer_sizes=(8,5), max_iter=100)\n"
   ]
  },
  {
   "cell_type": "markdown",
   "id": "4cf31d9b",
   "metadata": {},
   "source": [
    "## Data Preprocessing & Neural Network Architecture\n",
    "We will also split the data into training and testing sets to evaluate the performance of the neural network, we will use MLFNN. We will train the neural network on the training data and evaluate its performance on the testing data,We will also monitor the accuracy."
   ]
  },
  {
   "cell_type": "code",
   "execution_count": 39,
   "id": "34bde7f9",
   "metadata": {},
   "outputs": [
    {
     "name": "stdout",
     "output_type": "stream",
     "text": [
      "MLPClassifierModel Train Score is :  1.0\n",
      "MLPClassifierModel Test Score is :  1.0\n",
      "MLPClassifierModel loss is :  0.002981325254747063\n",
      "MLPClassifierModel No. of iterations is :  19\n",
      "MLPClassifierModel No. of layers is :  4\n",
      "MLPClassifierModel last activation is :  logistic\n",
      "----------------------------------------------------\n"
     ]
    }
   ],
   "source": [
    "MLPClassifierModel.fit(X_train, y_train)\n",
    "\n",
    "#Calculating Details\n",
    "print('MLPClassifierModel Train Score is : ' , MLPClassifierModel.score(X_train, y_train))\n",
    "print('MLPClassifierModel Test Score is : ' , MLPClassifierModel.score(X_test, y_test))\n",
    "print('MLPClassifierModel loss is : ' , MLPClassifierModel.loss_)\n",
    "print('MLPClassifierModel No. of iterations is : ' , MLPClassifierModel.n_iter_)\n",
    "print('MLPClassifierModel No. of layers is : ' , MLPClassifierModel.n_layers_)\n",
    "print('MLPClassifierModel last activation is : ' , MLPClassifierModel.out_activation_)\n",
    "print('----------------------------------------------------')"
   ]
  },
  {
   "cell_type": "code",
   "execution_count": 40,
   "id": "e9441563",
   "metadata": {},
   "outputs": [
    {
     "name": "stdout",
     "output_type": "stream",
     "text": [
      "Predicted Value for MLPClassifierModel is :  [0 0]\n",
      "Prediction Probabilities Value for MLPClassifierModel is :  [[9.99690203e-01 3.09797360e-04]]\n"
     ]
    }
   ],
   "source": [
    "y_pred = MLPClassifierModel.predict(X_test)\n",
    "y_pred_prob = MLPClassifierModel.predict_proba(X_test)\n",
    "print('Predicted Value for MLPClassifierModel is : ' , y_pred[:2])\n",
    "print('Prediction Probabilities Value for MLPClassifierModel is : ' , y_pred_prob[:1])\n"
   ]
  },
  {
   "cell_type": "code",
   "execution_count": 41,
   "id": "87990b61",
   "metadata": {},
   "outputs": [
    {
     "data": {
      "text/plain": [
       "1.0"
      ]
     },
     "execution_count": 41,
     "metadata": {},
     "output_type": "execute_result"
    }
   ],
   "source": [
    "\n",
    "accuracy_score(y_test, y_pred)"
   ]
  },
  {
   "cell_type": "markdown",
   "id": "98ebed66",
   "metadata": {},
   "source": [
    "## Results\n",
    "After training the neural network, we  evaluated its performance on the testing data. We  calculated the accuracy, confusion_matrix"
   ]
  },
  {
   "cell_type": "code",
   "execution_count": 30,
   "id": "4edcd864",
   "metadata": {},
   "outputs": [
    {
     "name": "stdout",
     "output_type": "stream",
     "text": [
      "[[2 0]\n",
      " [0 1]]\n"
     ]
    },
    {
     "data": {
      "image/png": "[encoded data removed]",
      "text/plain": [
       "<Figure size 432x288 with 2 Axes>"
      ]
     },
     "metadata": {
      "needs_background": "light"
     },
     "output_type": "display_data"
    }
   ],
   "source": [
    "cm = confusion_matrix(y_test, y_pred)\n",
    "print(cm)\n",
    "sns.heatmap(cm, center=True)\n",
    "plt.show()"
   ]
  },
  {
   "cell_type": "markdown",
   "id": "33722b70",
   "metadata": {},
   "source": [
    "## Conclusion\n",
    "In conclusion, we  examined the angles of movements to classify them as either correct or wrong using a neural network. By collecting and preprocessing the data, training the neural network, and evaluating its performance. "
   ]
  },
  {
   "cell_type": "code",
   "execution_count": null,
   "id": "f83cb98b",
   "metadata": {},
   "outputs": [],
   "source": []
  },
  {
   "cell_type": "code",
   "execution_count": null,
   "id": "5fe159e0",
   "metadata": {},
   "outputs": [],
   "source": []
  }
 ],
 "metadata": {
  "kernelspec": {
   "display_name": "Python 3 (ipykernel)",
   "language": "python",
   "name": "python3"
  },
  "language_info": {
   "codemirror_mode": {
    "name": "ipython",
    "version": 3
   },
   "file_extension": ".py",
   "mimetype": "text/x-python",
   "name": "python",
   "nbconvert_exporter": "python",
   "pygments_lexer": "ipython3",
   "version": "3.9.12"
  }
 },
 "nbformat": 4,
 "nbformat_minor": 5
}
