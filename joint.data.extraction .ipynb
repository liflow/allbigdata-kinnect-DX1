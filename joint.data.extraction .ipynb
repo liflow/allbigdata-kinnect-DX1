{
 "cells": [
  {
   "cell_type": "code",
   "execution_count": 1,
   "id": "ce48f24a",
   "metadata": {},
   "outputs": [],
   "source": [
    "file_path = \"C:/Azure_kinect_project/test_MS1/test_MS2/reference1.txt\"\n",
    "\n",
    "f = open(file_path, 'r')\n",
    "lines = f.readlines()\n",
    "\n",
    "output = []\n",
    "frame = []\n",
    "joint = 0\n",
    "for line in lines:\n",
    "    joint+=1\n",
    "    line = line.strip()  # 줄 끝의 줄 바꿈 문자를 제거한다.\n",
    "    line = line.split(\":\")\n",
    "    line = line[1]\n",
    "    \n",
    "    line = line.strip(')')\n",
    "    line = line.strip('(')\n",
    "    line = line.split(\",\")\n",
    "\n",
    "    for i in range(3):\n",
    "        line[i] = float(line[i])\n",
    "    frame.append(line)\n",
    "    \n",
    "    if joint%32 == 0:\n",
    "        output.append(frame)\n",
    "        joint = 0\n",
    "        frame = []\n",
    "f.close() \n",
    "#print(output)"
   ]
  },
  {
   "cell_type": "code",
   "execution_count": 2,
   "id": "80a3e836",
   "metadata": {},
   "outputs": [],
   "source": [
    "import numpy as np"
   ]
  },
  {
   "cell_type": "code",
   "execution_count": 3,
   "id": "d7bb85f1",
   "metadata": {},
   "outputs": [
    {
     "name": "stdout",
     "output_type": "stream",
     "text": [
      "angle Max :  84.573393707732\n"
     ]
    }
   ],
   "source": [
    "### 최대각도 구하기 #1 ###\n",
    "#output[frame][joint][x,y,z]\n",
    "\n",
    "# ∠\n",
    "# the joints in test limb\n",
    "angleList = []\n",
    "for i in range (len(output)):\n",
    "    joint_1_xyz = np.array(output[i][4])  # a\n",
    "    joint_2_xyz = np.array(output[i][7])  # b\n",
    "    # the joints in plane\n",
    "    joint_3_xyz = np.array(output[i][4])   # c\n",
    "    joint_4_xyz = np.array(output[i][18])   # d\n",
    "\n",
    "    # the vectors of above three joints.\n",
    "    vector1 = joint_2_xyz - joint_1_xyz\n",
    "    vector2 = joint_4_xyz - joint_3_xyz     # Fig_11_2 m09 Active straight raise\n",
    "    # Vector2 = (1, 0, 0)   # Fig_12_2 m11 Trunk stability\n",
    "\n",
    "    # the norm of vectors\n",
    "    norm_vector1 = np.sqrt(vector1.dot(vector1))\n",
    "    norm_vector2 = np.sqrt(vector2.dot(vector2))\n",
    "    # the dot product of vectors\n",
    "    dot_product = vector1.dot(vector2)\n",
    "    # the radians of the angle\n",
    "    angle_cos = dot_product / (norm_vector1 * norm_vector2)\n",
    "    # convert to an angle value\n",
    "    angle_deg = (np.arccos(angle_cos) * 180) / np.pi\n",
    "\n",
    "    angleList.append(angle_deg)\n",
    "#print(angleList)\n",
    "print('angle Max : ', max(angleList))"
   ]
  },
  {
   "cell_type": "code",
   "execution_count": 4,
   "id": "8f6c445e",
   "metadata": {},
   "outputs": [
    {
     "name": "stdout",
     "output_type": "stream",
     "text": [
      "[84.573393707732]\n"
     ]
    }
   ],
   "source": [
    "### 최대각도 구하기 #2 ###\n",
    "\n",
    "max_angleList = []\n",
    "CMP = 20 #최댓값 구하기 위해 비교할 앞,뒤 각각의 frame 개수\n",
    "\n",
    "for i in range(CMP,len(angleList)-CMP):\n",
    "    for j in range(1,CMP+1):\n",
    "        if (angleList[i] > angleList[i-j]) and (angleList[i] > angleList[i+j]):\n",
    "            if (j == CMP):\n",
    "                max_angleList.append(angleList[i])\n",
    "        else:\n",
    "            break\n",
    "\n",
    "print(max_angleList)"
   ]
  }
 ],
 "metadata": {
  "kernelspec": {
   "display_name": "Python 3 (ipykernel)",
   "language": "python",
   "name": "python3"
  },
  "language_info": {
   "codemirror_mode": {
    "name": "ipython",
    "version": 3
   },
   "file_extension": ".py",
   "mimetype": "text/x-python",
   "name": "python",
   "nbconvert_exporter": "python",
   "pygments_lexer": "ipython3",
   "version": "3.9.16"
  }
 },
 "nbformat": 4,
 "nbformat_minor": 5
}
