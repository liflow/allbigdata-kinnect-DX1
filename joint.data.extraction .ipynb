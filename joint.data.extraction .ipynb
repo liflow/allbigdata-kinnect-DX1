{
 "cells": [
  {
   "cell_type": "code",
   "execution_count": 1,
   "id": "ce48f24a",
   "metadata": {},
   "outputs": [],
   "source": [
    "file_path = \"C:/Azure_kinect_project/test_MS1/test_MS2/m12_4.txt\"\n",
    "\n",
    "f = open(file_path, 'r')\n",
    "lines = f.readlines()\n",
    "\n",
    "output = []\n",
    "frame = []\n",
    "joint = 0\n",
    "for line in lines:\n",
    "    joint+=1\n",
    "    line = line.strip()  # 줄 끝의 줄 바꿈 문자를 제거한다.\n",
    "    line = line.split(\":\")\n",
    "    line = line[1]\n",
    "    \n",
    "    line = line.strip(')')\n",
    "    line = line.strip('(')\n",
    "    line = line.split(\",\")\n",
    "\n",
    "    for i in range(3):\n",
    "        line[i] = float(line[i])\n",
    "    frame.append(line)\n",
    "    \n",
    "    if joint%32 == 0:\n",
    "        output.append(frame)\n",
    "        joint = 0\n",
    "        frame = []\n",
    "f.close() \n",
    "#print(output)"
   ]
  },
  {
   "cell_type": "code",
   "execution_count": 2,
   "id": "80a3e836",
   "metadata": {},
   "outputs": [],
   "source": [
    "import numpy as np"
   ]
  },
  {
   "cell_type": "code",
   "execution_count": 3,
   "id": "d7bb85f1",
   "metadata": {},
   "outputs": [
    {
     "name": "stdout",
     "output_type": "stream",
     "text": [
      "angle Max :  99.08361426425355\n"
     ]
    }
   ],
   "source": [
    "### 최대각도 구하기 #1 ###\n",
    "#output[frame][joint][x,y,z]\n",
    "\n",
    "# ∠\n",
    "# the joints in test limb\n",
    "angleList = []\n",
    "for i in range (len(output)):\n",
    "    joint_1_xyz = np.array(output[i][4])  # a\n",
    "    joint_2_xyz = np.array(output[i][7])  # b\n",
    "    # the joints in plane\n",
    "    joint_3_xyz = np.array(output[i][4])   # c\n",
    "    joint_4_xyz = np.array(output[i][18])   # d\n",
    "\n",
    "    # the vectors of above three joints.\n",
    "    vector1 = joint_2_xyz - joint_1_xyz\n",
    "    vector2 = joint_4_xyz - joint_3_xyz     # Fig_11_2 m09 Active straight raise\n",
    "    # Vector2 = (1, 0, 0)   # Fig_12_2 m11 Trunk stability\n",
    "\n",
    "    # the norm of vectors\n",
    "    norm_vector1 = np.sqrt(vector1.dot(vector1))\n",
    "    norm_vector2 = np.sqrt(vector2.dot(vector2))\n",
    "    # the dot product of vectors\n",
    "    dot_product = vector1.dot(vector2)\n",
    "    # the radians of the angle\n",
    "    angle_cos = dot_product / (norm_vector1 * norm_vector2)\n",
    "    # convert to an angle value\n",
    "    angle_deg = (np.arccos(angle_cos) * 180) / np.pi\n",
    "\n",
    "    angleList.append(angle_deg)\n",
    "#print(angleList)\n",
    "print('angle Max : ', max(angleList))"
   ]
  },
  {
   "cell_type": "code",
   "execution_count": 7,
   "id": "8f6c445e",
   "metadata": {},
   "outputs": [
    {
     "name": "stdout",
     "output_type": "stream",
     "text": [
      "[13.308325116558512, 13.897624807146821, 14.032355543969143, 13.901233447331718, 96.72372869568859, 96.80360571881167, 13.758041253143796, 95.22438317936198, 95.3202214056708, 13.169155765028563, 12.924391724078847, 12.889423070910814, 92.73295367229552, 92.26494014245856, 13.955295443990735, 14.220636702342574, 96.72469637859594, 13.527700241192255, 14.050082237128466, 14.024087808886856, 13.696396557140375, 94.97430545386398, 95.89774985250992, 13.62302854940297, 13.901302957585113, 95.1978222290265, 95.19552985285978, 95.07899801209182, 14.46674426457047, 14.464366171566821, 95.26599432590127, 94.11546026279835, 13.83230114354765, 97.11304716269314, 12.931443338500303, 13.290231062668049, 13.297124407482404, 13.048085815649145, 97.11106848566534, 97.5422297775495, 97.4692469731189, 95.00893947723895, 95.6496506770214, 13.499003199258237, 13.070028901328307, 12.5476026380814, 12.844616789009207, 97.5798882614951, 97.66661397682174, 97.5850196998917, 97.27031988026252, 13.135117084960807, 99.08361426425355, 98.8774808359701, 13.277943449046745, 13.39567209254029, 13.36676085481766, 13.909779979295358, 14.039181951856005]\n",
      "[96.80360571881167, 95.3202214056708, 92.73295367229552, 96.72469637859594, 95.89774985250992, 95.1978222290265, 95.26599432590127, 97.11304716269314, 97.5422297775495, 95.6496506770214, 97.66661397682174, 99.08361426425355]\n"
     ]
    }
   ],
   "source": [
    "### 최대각도 구하기 #2 ###\n",
    "\n",
    "local_angleList = []\n",
    "max_angleList = []\n",
    "real_max_angleList = []\n",
    "CMP = 1 #최댓값 구하기 위해 비교할 앞,뒤 각각의 frame 개수\n",
    "\n",
    "for i in range(CMP,len(angleList)-CMP):\n",
    "    for j in range(1,CMP+1):\n",
    "        if (angleList[i] > angleList[i-j]) and (angleList[i] > angleList[i+j]):\n",
    "            if (j == CMP):\n",
    "                local_angleList.append(angleList[i])\n",
    "        else:\n",
    "            break\n",
    "\n",
    "print(local_angleList)\n",
    "\n",
    "if len(local_angleList) > 12:\n",
    "    for k in range(len(local_angleList)):\n",
    "        if k == 0:\n",
    "            if (local_angleList[k] > local_angleList[k+1]):\n",
    "                max_angleList.append(local_angleList[k])\n",
    "        elif k == len(local_angleList)-1:\n",
    "            if(local_angleList[k] > local_angleList[k-1]):\n",
    "                max_angleList.append(local_angleList[k])\n",
    "        elif (local_angleList[k] > local_angleList[k-1]) and (local_angleList[k] > local_angleList[k+1]):\n",
    "            max_angleList.append(local_angleList[k])\n",
    "    \n",
    "    new_max_angleList = sorted(max_angleList, reverse=True)[:12]\n",
    "    \n",
    "    for a in max_angleList:\n",
    "        for b in new_max_angleList:\n",
    "            if a == b:\n",
    "                real_max_angleList.append(a)\n",
    "\n",
    "print(real_max_angleList)"
   ]
  },
  {
   "cell_type": "code",
   "execution_count": 8,
   "id": "80a0b8ff",
   "metadata": {},
   "outputs": [
    {
     "name": "stdout",
     "output_type": "stream",
     "text": [
      "99.08361426425355 \t 92.73295367229552 \t 96.24984995342923 \t 2.398053053716737\n"
     ]
    }
   ],
   "source": [
    "#get the data feature \"x\" for (max, min, mean, and variance)\n",
    "import statistics as st\n",
    "\n",
    "X_max = max(real_max_angleList)\n",
    "X_min = min(real_max_angleList)\n",
    "X_mean = sum(real_max_angleList)/len(real_max_angleList)\n",
    "X_variance = st.pvariance(real_max_angleList)\n",
    "\n",
    "print(X_max,'\\t', X_min ,'\\t' ,X_mean ,'\\t' ,X_variance)"
   ]
  },
  {
   "cell_type": "code",
   "execution_count": null,
   "id": "27bbf3ce",
   "metadata": {},
   "outputs": [],
   "source": [
    "import pandas as pd\n",
    "\n",
    "pd.read_csv(\"C:/Azure_kinect_project/test_MS1/test_MS2/max,min,mean,variance.csv\")"
   ]
  }
 ],
 "metadata": {
  "kernelspec": {
   "display_name": "Python 3 (ipykernel)",
   "language": "python",
   "name": "python3"
  },
  "language_info": {
   "codemirror_mode": {
    "name": "ipython",
    "version": 3
   },
   "file_extension": ".py",
   "mimetype": "text/x-python",
   "name": "python",
   "nbconvert_exporter": "python",
   "pygments_lexer": "ipython3",
   "version": "3.9.16"
  }
 },
 "nbformat": 4,
 "nbformat_minor": 5
}
