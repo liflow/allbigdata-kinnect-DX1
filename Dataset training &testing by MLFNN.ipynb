{
 "cells": [
  {
   "cell_type": "markdown",
   "id": "aa6db07a",
   "metadata": {},
   "source": [
    "## Examining Angel Measurements to Classify Correct and Wrong Movements using Neural Networks\n",
    "In this project, we will examine the angles of movements to classify them as either correct or wrong. We will measure the angles .The measurements will be used as input to a neural network that will classify the movements as either correct or wrong.\n",
    "\n"
   ]
  },
  {
   "cell_type": "code",
   "execution_count": 1,
   "id": "f15b93d7",
   "metadata": {},
   "outputs": [],
   "source": [
    "\n",
    "# importing libries\n",
    "import numpy as np\n",
    "import pandas as pd\n",
    "import matplotlib.pyplot as plt\n",
    "import seaborn as sns\n",
    "from sklearn.neural_network import MLPClassifier\n",
    "from sklearn.model_selection import train_test_split \n",
    "from sklearn.metrics import accuracy_score ,confusion_matrix\n",
    "from sklearn.preprocessing import StandardScaler"
   ]
  },
  {
   "cell_type": "markdown",
   "id": "ef0f9637",
   "metadata": {},
   "source": [
    "## Data Collection\n",
    "we  have  recorded 8 mkv files 4 files for correct movement and 4 forincorrect  movement ,  then  we labeled the movements as either correct or wrong, then we standrilzed teh data. by get 4 features \"n or Xs\" ------- (max, min , mean, variance)"
   ]
  },
  {
   "cell_type": "code",
   "execution_count": 2,
   "id": "70a2a083",
   "metadata": {},
   "outputs": [
    {
     "data": {
      "text/html": [
       "<div>\n",
       "<style scoped>\n",
       "    .dataframe tbody tr th:only-of-type {\n",
       "        vertical-align: middle;\n",
       "    }\n",
       "\n",
       "    .dataframe tbody tr th {\n",
       "        vertical-align: top;\n",
       "    }\n",
       "\n",
       "    .dataframe thead th {\n",
       "        text-align: right;\n",
       "    }\n",
       "</style>\n",
       "<table border=\"1\" class=\"dataframe\">\n",
       "  <thead>\n",
       "    <tr style=\"text-align: right;\">\n",
       "      <th></th>\n",
       "      <th>max</th>\n",
       "      <th>min</th>\n",
       "      <th>mean</th>\n",
       "      <th>variance</th>\n",
       "      <th>y</th>\n",
       "    </tr>\n",
       "  </thead>\n",
       "  <tbody>\n",
       "    <tr>\n",
       "      <th>0</th>\n",
       "      <td>89.252469</td>\n",
       "      <td>11.938456</td>\n",
       "      <td>49.161963</td>\n",
       "      <td>856.436477</td>\n",
       "      <td>0</td>\n",
       "    </tr>\n",
       "    <tr>\n",
       "      <th>1</th>\n",
       "      <td>93.129307</td>\n",
       "      <td>10.547509</td>\n",
       "      <td>48.159795</td>\n",
       "      <td>764.425423</td>\n",
       "      <td>0</td>\n",
       "    </tr>\n",
       "    <tr>\n",
       "      <th>2</th>\n",
       "      <td>85.948046</td>\n",
       "      <td>13.414578</td>\n",
       "      <td>37.542487</td>\n",
       "      <td>208.363189</td>\n",
       "      <td>0</td>\n",
       "    </tr>\n",
       "    <tr>\n",
       "      <th>3</th>\n",
       "      <td>99.083614</td>\n",
       "      <td>12.357153</td>\n",
       "      <td>49.703616</td>\n",
       "      <td>1043.003945</td>\n",
       "      <td>0</td>\n",
       "    </tr>\n",
       "    <tr>\n",
       "      <th>4</th>\n",
       "      <td>76.555638</td>\n",
       "      <td>11.454440</td>\n",
       "      <td>39.514535</td>\n",
       "      <td>451.158687</td>\n",
       "      <td>1</td>\n",
       "    </tr>\n",
       "    <tr>\n",
       "      <th>5</th>\n",
       "      <td>80.885158</td>\n",
       "      <td>8.483955</td>\n",
       "      <td>44.820644</td>\n",
       "      <td>425.482344</td>\n",
       "      <td>1</td>\n",
       "    </tr>\n",
       "    <tr>\n",
       "      <th>6</th>\n",
       "      <td>72.144159</td>\n",
       "      <td>13.248240</td>\n",
       "      <td>36.401979</td>\n",
       "      <td>230.232890</td>\n",
       "      <td>1</td>\n",
       "    </tr>\n",
       "    <tr>\n",
       "      <th>7</th>\n",
       "      <td>73.955996</td>\n",
       "      <td>12.177012</td>\n",
       "      <td>30.580823</td>\n",
       "      <td>346.531128</td>\n",
       "      <td>1</td>\n",
       "    </tr>\n",
       "  </tbody>\n",
       "</table>\n",
       "</div>"
      ],
      "text/plain": [
       "         max        min       mean     variance  y\n",
       "0  89.252469  11.938456  49.161963   856.436477  0\n",
       "1  93.129307  10.547509  48.159795   764.425423  0\n",
       "2  85.948046  13.414578  37.542487   208.363189  0\n",
       "3  99.083614  12.357153  49.703616  1043.003945  0\n",
       "4  76.555638  11.454440  39.514535   451.158687  1\n",
       "5  80.885158   8.483955  44.820644   425.482344  1\n",
       "6  72.144159  13.248240  36.401979   230.232890  1\n",
       "7  73.955996  12.177012  30.580823   346.531128  1"
      ]
     },
     "execution_count": 2,
     "metadata": {},
     "output_type": "execute_result"
    }
   ],
   "source": [
    "\n",
    "#  importing the CSV file into a pandas DataFrame\n",
    "df = pd.read_csv(r'C:\\Users\\sam\\Downloads\\MLFNNTEST.csv')\n",
    "\n",
    "# Print the first few rows of the DataFrame\n",
    "df.head(8)"
   ]
  },
  {
   "cell_type": "code",
   "execution_count": 37,
   "id": "1d71f44f",
   "metadata": {},
   "outputs": [
    {
     "data": {
      "text/html": [
       "<div>\n",
       "<style scoped>\n",
       "    .dataframe tbody tr th:only-of-type {\n",
       "        vertical-align: middle;\n",
       "    }\n",
       "\n",
       "    .dataframe tbody tr th {\n",
       "        vertical-align: top;\n",
       "    }\n",
       "\n",
       "    .dataframe thead th {\n",
       "        text-align: right;\n",
       "    }\n",
       "</style>\n",
       "<table border=\"1\" class=\"dataframe\">\n",
       "  <thead>\n",
       "    <tr style=\"text-align: right;\">\n",
       "      <th></th>\n",
       "      <th>max</th>\n",
       "      <th>min</th>\n",
       "      <th>mean</th>\n",
       "      <th>variance</th>\n",
       "      <th>y</th>\n",
       "    </tr>\n",
       "  </thead>\n",
       "  <tbody>\n",
       "    <tr>\n",
       "      <th>count</th>\n",
       "      <td>8.000000</td>\n",
       "      <td>8.000000</td>\n",
       "      <td>8.000000</td>\n",
       "      <td>8.000000</td>\n",
       "      <td>8.000000</td>\n",
       "    </tr>\n",
       "    <tr>\n",
       "      <th>mean</th>\n",
       "      <td>83.869298</td>\n",
       "      <td>11.702668</td>\n",
       "      <td>41.985730</td>\n",
       "      <td>540.704261</td>\n",
       "      <td>0.500000</td>\n",
       "    </tr>\n",
       "    <tr>\n",
       "      <th>std</th>\n",
       "      <td>9.626378</td>\n",
       "      <td>1.593939</td>\n",
       "      <td>7.013449</td>\n",
       "      <td>308.888267</td>\n",
       "      <td>0.534522</td>\n",
       "    </tr>\n",
       "    <tr>\n",
       "      <th>min</th>\n",
       "      <td>72.144159</td>\n",
       "      <td>8.483955</td>\n",
       "      <td>30.580823</td>\n",
       "      <td>208.363189</td>\n",
       "      <td>0.000000</td>\n",
       "    </tr>\n",
       "    <tr>\n",
       "      <th>25%</th>\n",
       "      <td>75.905728</td>\n",
       "      <td>11.227708</td>\n",
       "      <td>37.257360</td>\n",
       "      <td>317.456569</td>\n",
       "      <td>0.000000</td>\n",
       "    </tr>\n",
       "    <tr>\n",
       "      <th>50%</th>\n",
       "      <td>83.416602</td>\n",
       "      <td>12.057734</td>\n",
       "      <td>42.167589</td>\n",
       "      <td>438.320516</td>\n",
       "      <td>0.500000</td>\n",
       "    </tr>\n",
       "    <tr>\n",
       "      <th>75%</th>\n",
       "      <td>90.221678</td>\n",
       "      <td>12.579925</td>\n",
       "      <td>48.410337</td>\n",
       "      <td>787.428187</td>\n",
       "      <td>1.000000</td>\n",
       "    </tr>\n",
       "    <tr>\n",
       "      <th>max</th>\n",
       "      <td>99.083614</td>\n",
       "      <td>13.414578</td>\n",
       "      <td>49.703616</td>\n",
       "      <td>1043.003945</td>\n",
       "      <td>1.000000</td>\n",
       "    </tr>\n",
       "  </tbody>\n",
       "</table>\n",
       "</div>"
      ],
      "text/plain": [
       "             max        min       mean     variance         y\n",
       "count   8.000000   8.000000   8.000000     8.000000  8.000000\n",
       "mean   83.869298  11.702668  41.985730   540.704261  0.500000\n",
       "std     9.626378   1.593939   7.013449   308.888267  0.534522\n",
       "min    72.144159   8.483955  30.580823   208.363189  0.000000\n",
       "25%    75.905728  11.227708  37.257360   317.456569  0.000000\n",
       "50%    83.416602  12.057734  42.167589   438.320516  0.500000\n",
       "75%    90.221678  12.579925  48.410337   787.428187  1.000000\n",
       "max    99.083614  13.414578  49.703616  1043.003945  1.000000"
      ]
     },
     "execution_count": 37,
     "metadata": {},
     "output_type": "execute_result"
    }
   ],
   "source": [
    "# describe---------> for stratical measure to the dataset\n",
    "df.describe()"
   ]
  },
  {
   "cell_type": "code",
   "execution_count": 32,
   "id": "b106d4dd",
   "metadata": {},
   "outputs": [
    {
     "name": "stdout",
     "output_type": "stream",
     "text": [
      "----------------------------------------------------\n",
      "         max        min       mean     variance\n",
      "0  89.252469  11.938456  49.161963   856.436477\n",
      "1  93.129307  10.547509  48.159795   764.425423\n",
      "2  85.948046  13.414578  37.542487   208.363189\n",
      "3  99.083614  12.357153  49.703616  1043.003945\n",
      "4  76.555638  11.454440  39.514535   451.158687\n",
      "5  80.885158   8.483955  44.820644   425.482344\n",
      "6  72.144159  13.248240  36.401979   230.232890\n",
      "7  73.955996  12.177012  30.580823   346.531128\n",
      "----------------------------------------------------\n",
      "[0 0 0 0 1 1 1 1]\n",
      "get the matrices shape (8, 4)\n",
      "----------------------------------------------------\n"
     ]
    }
   ],
   "source": [
    "# separate X (training data) from y (target variable)\n",
    "cols = df.shape[1]\n",
    "X = df.iloc[:,0:cols-1]\n",
    "y= df.iloc[:,cols-1:cols]\n",
    "y=np.ravel(y)\n",
    "print('----------------------------------------------------')\n",
    "print(X)\n",
    "print('----------------------------------------------------')\n",
    "print(y)\n",
    "print(\"get the matrices shape\",X.shape)\n",
    "print('----------------------------------------------------')"
   ]
  },
  {
   "cell_type": "markdown",
   "id": "5a5d29f5",
   "metadata": {},
   "source": [
    "# # Data Preprocessing & Neural Network Architecture\n",
    "We will also split the data into training and testing sets to evaluate the performance of the neural network, we will use MLFNN. We will train the neural network on the training data and evaluate its performance on the testing data,We will also monitor the accuracy."
   ]
  },
  {
   "cell_type": "code",
   "execution_count": 29,
   "id": "097e7945",
   "metadata": {},
   "outputs": [
    {
     "name": "stdout",
     "output_type": "stream",
     "text": [
      "X after strandaliztion \n",
      " [[ 0.59782104  0.15814186  1.09385767  1.09273149]\n",
      " [ 1.02835832 -0.77475745  0.94109936  0.7742864 ]\n",
      " [ 0.23085257  1.1481671  -0.67727404 -1.15021381]\n",
      " [ 1.6896062   0.43895861  1.1764208   1.73843104]\n",
      " [-0.81220907 -0.16648477 -0.37667894 -0.30991221]]\n",
      "----------------------------------------------------\n",
      "y \n",
      " [0 0 0 0 1]\n",
      "----------------------------------------------------\n"
     ]
    }
   ],
   "source": [
    "\n",
    "#Standard Scaler for Data\n",
    "\n",
    "scaler = StandardScaler(copy=True, with_mean=True, with_std=True)\n",
    "X = scaler.fit_transform(X)\n",
    "\n",
    "#showing data\n",
    "print('X after strandaliztion \\n' , X[:5])\n",
    "print('----------------------------------------------------')\n",
    "print('y \\n' , y[:5])\n",
    "print('----------------------------------------------------')"
   ]
  },
  {
   "cell_type": "code",
   "execution_count": 6,
   "id": "5246bf48",
   "metadata": {},
   "outputs": [
    {
     "data": {
      "text/plain": [
       "0    4\n",
       "1    4\n",
       "Name: y, dtype: int64"
      ]
     },
     "execution_count": 6,
     "metadata": {},
     "output_type": "execute_result"
    }
   ],
   "source": [
    "#get the values of Y\n",
    "df.y.value_counts()"
   ]
  },
  {
   "cell_type": "code",
   "execution_count": 27,
   "id": "b8b49756",
   "metadata": {},
   "outputs": [
    {
     "name": "stdout",
     "output_type": "stream",
     "text": [
      "Training data shape: (5, 4)\n",
      "Training labels shape: (5,)\n",
      "Test data shape: (3, 4)\n",
      "Test labels shape: (3,)\n",
      "Training labels : [0 1 0 1 1]\n",
      "Test labels : [0 0 1]\n",
      "----------------------------------------------------\n"
     ]
    }
   ],
   "source": [
    "X_train, X_test, y_train, y_test = train_test_split(X, y, test_size=0.3,\n",
    "                                                    stratify=y,random_state=3)\n",
    "\n",
    "\n",
    "# Print the shapes of the training and test sets\n",
    "print(\"Training data shape:\", X_train.shape)\n",
    "print(\"Training labels shape:\", y_train.shape)\n",
    "print(\"Test data shape:\", X_test.shape)\n",
    "print(\"Test labels shape:\", y_test.shape)\n",
    "print(\"Training labels :\", y_train)\n",
    "print(\"Test labels :\", y_test)\n",
    "print('----------------------------------------------------')"
   ]
  },
  {
   "cell_type": "code",
   "execution_count": 34,
   "id": "2f9e68f6",
   "metadata": {},
   "outputs": [
    {
     "data": {
      "text/plain": [
       "MLPClassifier(activation='logistic', hidden_layer_sizes=(4, 5), max_iter=100,\n",
       "              solver='lbfgs')"
      ]
     },
     "execution_count": 34,
     "metadata": {},
     "output_type": "execute_result"
    }
   ],
   "source": [
    "# Applying neuralnetwork model\n",
    "MLCModel = MLPClassifier(activation='logistic', # can be also identity , logistic , relu\n",
    "                                   solver='lbfgs',  # can be also sgd , adam\n",
    "                                   learning_rate='constant', # can be also invscaling , adaptive\n",
    "                                    early_stopping= False,\n",
    "                                   alpha=0.0001 ,hidden_layer_sizes=(4,5), max_iter=100)\n",
    "MLCModel.fit(X_train, y_train)\n"
   ]
  },
  {
   "cell_type": "code",
   "execution_count": 9,
   "id": "342536f0",
   "metadata": {},
   "outputs": [],
   "source": [
    " #MLPClassifier?\n",
    "    "
   ]
  },
  {
   "cell_type": "code",
   "execution_count": 22,
   "id": "34bde7f9",
   "metadata": {},
   "outputs": [
    {
     "name": "stdout",
     "output_type": "stream",
     "text": [
      "MLPClassifierModel Train Score is :  1.0\n",
      "MLPClassifierModel Test Score is :  1.0\n",
      "MLPClassifierModel loss is :  0.0025595033734424843\n",
      "MLPClassifierModel No. of iterations is :  21\n",
      "MLPClassifierModel No. of layers is :  4\n",
      "MLPClassifierModel last activation is :  logistic\n",
      "----------------------------------------------------\n"
     ]
    }
   ],
   "source": [
    "#Calculating Details\n",
    "print('MLPClassifierModel Train Score is : ' , MLCModel.score(X_train, y_train))\n",
    "print('MLPClassifierModel Test Score is : ' ,MLCModel.score(X_test, y_test))\n",
    "print('MLPClassifierModel loss is : ' ,MLCModel.loss_)\n",
    "print('MLPClassifierModel No. of iterations is : ' , MLCModel.n_iter_)\n",
    "print('MLPClassifierModel No. of layers is : ' , MLCModel.n_layers_)\n",
    "print('MLPClassifierModel last activation is : ' , MLCModel.out_activation_)\n",
    "print('----------------------------------------------------')"
   ]
  },
  {
   "cell_type": "code",
   "execution_count": 23,
   "id": "e9441563",
   "metadata": {},
   "outputs": [
    {
     "name": "stdout",
     "output_type": "stream",
     "text": [
      "Predicted Value for MLPClassifierModel is :  [0 0 1]\n",
      "Prediction Probabilities Value for MLPClassifierModel is :  [[9.99170190e-01 8.29809688e-04]\n",
      " [9.99524243e-01 4.75756985e-04]\n",
      " [1.58109131e-04 9.99841891e-01]]\n",
      "----------------------------------------------------\n"
     ]
    }
   ],
   "source": [
    "y_pred = MLCModel.predict(X_test)\n",
    "y_pred_prob = MLCModel.predict_proba(X_test)\n",
    "print('Predicted Value for MLPClassifierModel is : ' , y_pred[:3])\n",
    "print('Prediction Probabilities Value for MLPClassifierModel is : ' , y_pred_prob[:3])\n",
    "print('----------------------------------------------------')\n"
   ]
  },
  {
   "cell_type": "markdown",
   "id": "98ebed66",
   "metadata": {},
   "source": [
    "## Results\n",
    "After training the neural network, we  evaluated its performance on the testing data. We  calculated the accuracy, confusion_matrix"
   ]
  },
  {
   "cell_type": "code",
   "execution_count": 24,
   "id": "81a71bfe",
   "metadata": {},
   "outputs": [
    {
     "name": "stdout",
     "output_type": "stream",
     "text": [
      "Accuracy: 100.0%\n",
      "----------------------------------------------------\n"
     ]
    }
   ],
   "source": [
    "# assume y_test and y_pred are the true and predicted labels respectively\n",
    "accuracy = accuracy_score(y_test, y_pred)\n",
    "\n",
    "print(\"Accuracy: {:.1f}%\".format(accuracy * 100))\n",
    "print('----------------------------------------------------')"
   ]
  },
  {
   "cell_type": "code",
   "execution_count": 36,
   "id": "4edcd864",
   "metadata": {
    "scrolled": true
   },
   "outputs": [
    {
     "name": "stdout",
     "output_type": "stream",
     "text": [
      "confusion_matrix is: \n",
      " [[2 0]\n",
      " [0 1]]\n",
      "----------------------------------------------------\n"
     ]
    },
    {
     "data": {
      "image/png": "[encoded data removed]",
      "text/plain": [
       "<Figure size 432x288 with 2 Axes>"
      ]
     },
     "metadata": {
      "needs_background": "light"
     },
     "output_type": "display_data"
    }
   ],
   "source": [
    "# Create a confusion matrix using sklearn\n",
    "\n",
    "cm = confusion_matrix(y_test, y_pred)\n",
    "print(\"confusion_matrix is: \\n\",cm)\n",
    "print('----------------------------------------------------')\n",
    "\n",
    "# Create a heatmap using matshow() function\n",
    "sns.heatmap(cm, center=True)\n",
    "plt.show()\n"
   ]
  },
  {
   "cell_type": "markdown",
   "id": "33722b70",
   "metadata": {},
   "source": [
    "## Conclusion\n",
    "In conclusion, we  examined the angles of movements to classify them as either correct or wrong using a neural network. By collecting and preprocessing the data, training the neural network, and evaluating its performance. "
   ]
  }
 ],
 "metadata": {
  "kernelspec": {
   "display_name": "Python 3 (ipykernel)",
   "language": "python",
   "name": "python3"
  },
  "language_info": {
   "codemirror_mode": {
    "name": "ipython",
    "version": 3
   },
   "file_extension": ".py",
   "mimetype": "text/x-python",
   "name": "python",
   "nbconvert_exporter": "python",
   "pygments_lexer": "ipython3",
   "version": "3.9.12"
  }
 },
 "nbformat": 4,
 "nbformat_minor": 5
}
