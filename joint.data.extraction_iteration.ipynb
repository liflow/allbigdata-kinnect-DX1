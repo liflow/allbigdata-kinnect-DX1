{
 "cells": [
  {
   "cell_type": "markdown",
   "id": "78e26a3b",
   "metadata": {},
   "source": [
    "# Get movement angle from joint posistion data & Labeling for NN training"
   ]
  },
  {
   "cell_type": "markdown",
   "id": "edeae668",
   "metadata": {},
   "source": [
    "## 1. Make a array from txt file\n",
    "The file's path to be preprocessed must be entered directly. (file_path)"
   ]
  },
  {
   "cell_type": "markdown",
   "id": "47956593",
   "metadata": {},
   "source": [
    "### Extract only digits\n",
    "Extract only the joint coordinate values (digits) from a txt file and store them in an array"
   ]
  },
  {
   "cell_type": "code",
   "execution_count": 1,
   "id": "ce48f24a",
   "metadata": {},
   "outputs": [],
   "source": [
    "def Preprocessing (lines):\n",
    "    output = []\n",
    "    frame = []\n",
    "    joint = 0\n",
    "    for line in lines:\n",
    "        joint+=1\n",
    "        line = line.strip()  # 줄 끝의 줄 바꿈 문자를 제거한다.\n",
    "        line = line.split(\":\")\n",
    "        line = line[1]\n",
    "\n",
    "        line = line.strip(')')\n",
    "        line = line.strip('(')\n",
    "        line = line.split(\",\")\n",
    "\n",
    "        for i in range(3):\n",
    "            line[i] = float(line[i])\n",
    "        frame.append(line)\n",
    "\n",
    "        if joint%32 == 0:\n",
    "            output.append(frame)\n",
    "            joint = 0\n",
    "            frame = []\n",
    "    return output"
   ]
  },
  {
   "cell_type": "markdown",
   "id": "e24d3c37",
   "metadata": {},
   "source": [
    "## 2. Get the Maximum angle\n",
    "It is the function that finds the angle formed by the arm and the body. One angle is derived for each frame, and all angles for each frame derived in this way are stored in angleList."
   ]
  },
  {
   "cell_type": "code",
   "execution_count": 2,
   "id": "80a3e836",
   "metadata": {},
   "outputs": [],
   "source": [
    "import numpy as np"
   ]
  },
  {
   "cell_type": "code",
   "execution_count": 3,
   "id": "d7bb85f1",
   "metadata": {},
   "outputs": [],
   "source": [
    "### 최대각도 구하기 #1 ###\n",
    "#output[frame][joint][x,y,z]\n",
    "\n",
    "# ∠\n",
    "# the joints in test limb\n",
    "def getAngleList(joints):\n",
    "    angleList = []\n",
    "    for i in range (len(joints)):\n",
    "        joint_1_xyz = np.array(joints[i][4])  # a\n",
    "        joint_2_xyz = np.array(joints[i][7])  # b\n",
    "        # the joints in plane\n",
    "        joint_3_xyz = np.array(joints[i][4])   # c\n",
    "        joint_4_xyz = np.array(joints[i][18])   # d\n",
    "\n",
    "        # the vectors of above three joints.\n",
    "        vector1 = joint_2_xyz - joint_1_xyz\n",
    "        vector2 = joint_4_xyz - joint_3_xyz     # Fig_11_2 m09 Active straight raise\n",
    "        # Vector2 = (1, 0, 0)   # Fig_12_2 m11 Trunk stability\n",
    "\n",
    "        # the norm of vectors\n",
    "        norm_vector1 = np.sqrt(vector1.dot(vector1))\n",
    "        norm_vector2 = np.sqrt(vector2.dot(vector2))\n",
    "        # the dot product of vectors\n",
    "        dot_product = vector1.dot(vector2)\n",
    "        # the radians of the angle\n",
    "        angle_cos = dot_product / (norm_vector1 * norm_vector2)\n",
    "        # convert to an angle value\n",
    "        angle_deg = (np.arccos(angle_cos) * 180) / np.pi\n",
    "\n",
    "        angleList.append(angle_deg)\n",
    "    return angleList"
   ]
  },
  {
   "cell_type": "markdown",
   "id": "ccd7c8dc",
   "metadata": {},
   "source": [
    "## 3. Make a Input for NN training\n",
    "This is the function where the maximum value, minimum value, average, and variance of each element of angleList are obtained. When we make a model, they become input."
   ]
  },
  {
   "cell_type": "markdown",
   "id": "b47b00c4",
   "metadata": {},
   "source": [
    "### Labeling \n",
    "This is the part for labeling. If the maximum angle of motion was in the range of 80-95 degrees, it was set as correct motion and labeled accordingly.</br>\n",
    "Since we labeled correct motion as 0 and incorrect motion as 1, the if statement was written like that."
   ]
  },
  {
   "cell_type": "code",
   "execution_count": 4,
   "id": "80a0b8ff",
   "metadata": {},
   "outputs": [],
   "source": [
    "#get the data feature \"x\" for (max, min, mean, and variance)\n",
    "import statistics as st\n",
    "\n",
    "def calculate(angleList):\n",
    "    X_max = max(angleList)\n",
    "    X_min = min(angleList)\n",
    "    X_mean = sum(angleList)/len(angleList)\n",
    "    X_variance = st.pvariance(angleList)\n",
    "    \n",
    "    ### for Labeling ###\n",
    "    if X_max > 80 and X_max <= 95:\n",
    "        y = 0\n",
    "    else:\n",
    "        y = 1\n",
    "    ####################\n",
    "    \n",
    "    return [X_max, X_min, X_mean, X_variance, int(y)]\n",
    "#print(X_max,'\\t', X_min ,'\\t' ,X_mean ,'\\t' ,X_variance)"
   ]
  },
  {
   "cell_type": "markdown",
   "id": "cdf3f59d",
   "metadata": {},
   "source": [
    "## 4. Repeat steps 1-3 for all txt files\n",
    "For all txt files in the ```txtfiles``` folder, the above 3 functions are executed and the input values to be used for the NN are stored as an array."
   ]
  },
  {
   "cell_type": "code",
   "execution_count": 5,
   "id": "5cba91f1",
   "metadata": {},
   "outputs": [
    {
     "name": "stdout",
     "output_type": "stream",
     "text": [
      "['m12_1.txt', 'm12_2.txt', 'm12_2w.txt', 'm12_3.txt', 'm12_3w.txt', 'm12_4.txt', 'm12_4w.txt']\n"
     ]
    }
   ],
   "source": [
    "import os\n",
    "\n",
    "path = './txtfiles/'\n",
    "file_list = os.listdir(path)\n",
    "files = [file for file in file_list if file.endswith('.txt')]\n",
    "print(file_list)\n",
    "features =[]\n",
    "\n",
    "for file in files:\n",
    "    with open(path+file, 'r') as f:\n",
    "        lines = f.readlines()\n",
    "        jointsCoordList = Preprocessing(lines)\n",
    "        angleList = getAngleList(jointsCoordList)\n",
    "        features.append(calculate(angleList))\n",
    "        f.close()"
   ]
  },
  {
   "cell_type": "markdown",
   "id": "a1a56985",
   "metadata": {},
   "source": [
    "## 5. Make a .csv file\n",
    "Record the maximum value, minimum value, mean, and variance obtained in step 3 in a csv file. At this time, the csv file must be in the same directory as the ``joint.data.extraction.ipynb`` file."
   ]
  },
  {
   "cell_type": "code",
   "execution_count": 6,
   "id": "98198e63",
   "metadata": {},
   "outputs": [],
   "source": [
    "#write the data feature \"x\" for (max, min, mean, and variance) on the csv file\n",
    "import csv\n",
    "\n",
    "filename = \"test.csv\"\n",
    "\n",
    "f = open(filename, \"a\", newline=\"\")\n",
    "\n",
    "writer = csv.writer(f)\n",
    "for feat in features:\n",
    "    writer.writerow(feat)\n",
    "f.close()"
   ]
  },
  {
   "cell_type": "code",
   "execution_count": 7,
   "id": "27bbf3ce",
   "metadata": {
    "scrolled": true
   },
   "outputs": [
    {
     "data": {
      "text/html": [
       "<div>\n",
       "<style scoped>\n",
       "    .dataframe tbody tr th:only-of-type {\n",
       "        vertical-align: middle;\n",
       "    }\n",
       "\n",
       "    .dataframe tbody tr th {\n",
       "        vertical-align: top;\n",
       "    }\n",
       "\n",
       "    .dataframe thead th {\n",
       "        text-align: right;\n",
       "    }\n",
       "</style>\n",
       "<table border=\"1\" class=\"dataframe\">\n",
       "  <thead>\n",
       "    <tr style=\"text-align: right;\">\n",
       "      <th></th>\n",
       "      <th>max</th>\n",
       "      <th>min</th>\n",
       "      <th>mean</th>\n",
       "      <th>variance</th>\n",
       "      <th>y</th>\n",
       "    </tr>\n",
       "  </thead>\n",
       "  <tbody>\n",
       "    <tr>\n",
       "      <th>0</th>\n",
       "      <td>89.252469</td>\n",
       "      <td>11.938456</td>\n",
       "      <td>49.161963</td>\n",
       "      <td>856.436477</td>\n",
       "      <td>0</td>\n",
       "    </tr>\n",
       "    <tr>\n",
       "      <th>1</th>\n",
       "      <td>93.129307</td>\n",
       "      <td>10.547509</td>\n",
       "      <td>48.159795</td>\n",
       "      <td>764.425423</td>\n",
       "      <td>0</td>\n",
       "    </tr>\n",
       "    <tr>\n",
       "      <th>2</th>\n",
       "      <td>80.885158</td>\n",
       "      <td>8.483955</td>\n",
       "      <td>44.820644</td>\n",
       "      <td>425.482344</td>\n",
       "      <td>0</td>\n",
       "    </tr>\n",
       "    <tr>\n",
       "      <th>3</th>\n",
       "      <td>85.948046</td>\n",
       "      <td>13.414578</td>\n",
       "      <td>37.542487</td>\n",
       "      <td>208.363189</td>\n",
       "      <td>0</td>\n",
       "    </tr>\n",
       "    <tr>\n",
       "      <th>4</th>\n",
       "      <td>72.144159</td>\n",
       "      <td>13.248240</td>\n",
       "      <td>36.401979</td>\n",
       "      <td>230.232890</td>\n",
       "      <td>1</td>\n",
       "    </tr>\n",
       "    <tr>\n",
       "      <th>5</th>\n",
       "      <td>99.083614</td>\n",
       "      <td>12.357153</td>\n",
       "      <td>49.703616</td>\n",
       "      <td>1043.003945</td>\n",
       "      <td>1</td>\n",
       "    </tr>\n",
       "    <tr>\n",
       "      <th>6</th>\n",
       "      <td>73.955996</td>\n",
       "      <td>12.177012</td>\n",
       "      <td>30.580823</td>\n",
       "      <td>346.531128</td>\n",
       "      <td>1</td>\n",
       "    </tr>\n",
       "  </tbody>\n",
       "</table>\n",
       "</div>"
      ],
      "text/plain": [
       "         max        min       mean     variance  y\n",
       "0  89.252469  11.938456  49.161963   856.436477  0\n",
       "1  93.129307  10.547509  48.159795   764.425423  0\n",
       "2  80.885158   8.483955  44.820644   425.482344  0\n",
       "3  85.948046  13.414578  37.542487   208.363189  0\n",
       "4  72.144159  13.248240  36.401979   230.232890  1\n",
       "5  99.083614  12.357153  49.703616  1043.003945  1\n",
       "6  73.955996  12.177012  30.580823   346.531128  1"
      ]
     },
     "execution_count": 7,
     "metadata": {},
     "output_type": "execute_result"
    }
   ],
   "source": [
    "import pandas as pd\n",
    "csv_filepath = \"C:/Users/soohyun/Downloads/jointData/\"+filename\n",
    "pd.read_csv(csv_filepath)"
   ]
  }
 ],
 "metadata": {
  "kernelspec": {
   "display_name": "Python 3 (ipykernel)",
   "language": "python",
   "name": "python3"
  },
  "language_info": {
   "codemirror_mode": {
    "name": "ipython",
    "version": 3
   },
   "file_extension": ".py",
   "mimetype": "text/x-python",
   "name": "python",
   "nbconvert_exporter": "python",
   "pygments_lexer": "ipython3",
   "version": "3.9.16"
  }
 },
 "nbformat": 4,
 "nbformat_minor": 5
}
